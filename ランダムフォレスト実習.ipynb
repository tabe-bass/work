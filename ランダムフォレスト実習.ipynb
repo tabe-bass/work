{
 "cells": [
  {
   "cell_type": "code",
   "execution_count": 8,
   "metadata": {},
   "outputs": [],
   "source": [
    "from sklearn.ensemble import RandomForestClassifier as classifier\n",
    "from gensim import matutils"
   ]
  },
  {
   "cell_type": "code",
   "execution_count": 9,
   "metadata": {},
   "outputs": [],
   "source": [
    "corpus = [[(1,10),(2,20)],[(3,30),(4,40)],[(5,50),(6,60)]]\n",
    "labels = [[100,500,900],[300,400,800],[200,600,700]]"
   ]
  },
  {
   "cell_type": "code",
   "execution_count": 10,
   "metadata": {},
   "outputs": [],
   "source": [
    "dense = matutils.corpus2dense(corpus, 7)"
   ]
  },
  {
   "cell_type": "code",
   "execution_count": 11,
   "metadata": {},
   "outputs": [
    {
     "name": "stdout",
     "output_type": "stream",
     "text": [
      "[[ 0.  0.  0.]\n",
      " [10.  0.  0.]\n",
      " [20.  0.  0.]\n",
      " [ 0. 30.  0.]\n",
      " [ 0. 40.  0.]\n",
      " [ 0.  0. 50.]\n",
      " [ 0.  0. 60.]]\n"
     ]
    }
   ],
   "source": [
    "print(dense)"
   ]
  },
  {
   "cell_type": "code",
   "execution_count": 12,
   "metadata": {},
   "outputs": [
    {
     "name": "stdout",
     "output_type": "stream",
     "text": [
      "[[ 0. 10. 20.  0.  0.  0.  0.]\n",
      " [ 0.  0.  0. 30. 40.  0.  0.]\n",
      " [ 0.  0.  0.  0.  0. 50. 60.]]\n"
     ]
    }
   ],
   "source": [
    "#行と列を転置\n",
    "print(dense.T)"
   ]
  },
  {
   "cell_type": "code",
   "execution_count": 13,
   "metadata": {},
   "outputs": [
    {
     "name": "stderr",
     "output_type": "stream",
     "text": [
      "C:\\Users\\tabetabe\\Anaconda3\\lib\\site-packages\\sklearn\\ensemble\\forest.py:246: FutureWarning: The default value of n_estimators will change from 10 in version 0.20 to 100 in 0.22.\n",
      "  \"10 in version 0.20 to 100 in 0.22.\", FutureWarning)\n"
     ]
    },
    {
     "data": {
      "text/plain": [
       "RandomForestClassifier(bootstrap=True, class_weight=None, criterion='gini',\n",
       "            max_depth=None, max_features='auto', max_leaf_nodes=None,\n",
       "            min_impurity_decrease=0.0, min_impurity_split=None,\n",
       "            min_samples_leaf=1, min_samples_split=2,\n",
       "            min_weight_fraction_leaf=0.0, n_estimators=10, n_jobs=None,\n",
       "            oob_score=False, random_state=777, verbose=0, warm_start=False)"
      ]
     },
     "execution_count": 13,
     "metadata": {},
     "output_type": "execute_result"
    }
   ],
   "source": [
    "clf = classifier(random_state=777)\n",
    "clf.fit(dense.T, labels)"
   ]
  },
  {
   "cell_type": "code",
   "execution_count": 14,
   "metadata": {},
   "outputs": [
    {
     "name": "stdout",
     "output_type": "stream",
     "text": [
      "[[100. 500. 900.]]\n",
      "[array([[0.8, 0.1, 0.1]]), array([[0.1, 0.8, 0.1]]), array([[0.1, 0.1, 0.8]])]\n",
      "[[200. 600. 700.]]\n",
      "[array([[0.3, 0.5, 0.2]]), array([[0.2, 0.3, 0.5]]), array([[0.5, 0.2, 0.3]])]\n",
      "[[100. 500. 900.]\n",
      " [100. 400. 800.]\n",
      " [200. 600. 700.]]\n",
      "[array([[0.7, 0.2, 0.1],\n",
      "       [0.4, 0.2, 0.4],\n",
      "       [0.3, 0.5, 0.2]]), array([[0.1, 0.7, 0.2],\n",
      "       [0.4, 0.4, 0.2],\n",
      "       [0.2, 0.3, 0.5]]), array([[0.2, 0.1, 0.7],\n",
      "       [0.2, 0.4, 0.4],\n",
      "       [0.5, 0.2, 0.3]])]\n"
     ]
    }
   ],
   "source": [
    "for target in [[[0,10,20, 0, 0, 0, 0]], #=> (*3)\n",
    "               [[0,10,20,30,40,50,60]], #=> (*4)\n",
    "               [[0,10,10,0,0,0,0],      #=> (*5)\n",
    "                [0,0,0,20,20,0,0],\n",
    "                [0,0,0,0,0,30,30]]]:\n",
    "    print(clf.predict(target))\n",
    "    print(clf.predict_proba(target))"
   ]
  }
 ],
 "metadata": {
  "kernelspec": {
   "display_name": "Python 3",
   "language": "python",
   "name": "python3"
  },
  "language_info": {
   "codemirror_mode": {
    "name": "ipython",
    "version": 3
   },
   "file_extension": ".py",
   "mimetype": "text/x-python",
   "name": "python",
   "nbconvert_exporter": "python",
   "pygments_lexer": "ipython3",
   "version": "3.7.1"
  }
 },
 "nbformat": 4,
 "nbformat_minor": 2
}
